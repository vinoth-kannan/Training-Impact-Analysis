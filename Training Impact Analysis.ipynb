{
 "cells": [
  {
   "cell_type": "markdown",
   "id": "037c0820-4d73-4c00-8471-dea17f4ad06c",
   "metadata": {},
   "source": [
    "# Analyzing the Impact of a New Training Program on Employee Performance\n",
    "\n",
    "Dataset: Human Resources Analytics\n",
    "\n",
    "Task: Determine if undergoing training (as indicated in the dataset) leads to higher last evaluation scores using a paired sample t-test."
   ]
  },
  {
   "cell_type": "code",
   "execution_count": 279,
   "id": "3a8f2d33-d4b2-4326-b18a-ccd00835aee2",
   "metadata": {},
   "outputs": [],
   "source": [
    "import pandas as pd\n",
    "from scipy import stats"
   ]
  },
  {
   "cell_type": "code",
   "execution_count": 280,
   "id": "8d41e407-55b3-4074-b1b0-3de2e55cb560",
   "metadata": {},
   "outputs": [],
   "source": [
    "data=pd.read_csv(\"Hr_data.csv\")"
   ]
  },
  {
   "cell_type": "code",
   "execution_count": 281,
   "id": "5a6e9275-9aa4-413a-8613-70abd06aec4d",
   "metadata": {},
   "outputs": [
    {
     "data": {
      "text/html": [
       "<div>\n",
       "<style scoped>\n",
       "    .dataframe tbody tr th:only-of-type {\n",
       "        vertical-align: middle;\n",
       "    }\n",
       "\n",
       "    .dataframe tbody tr th {\n",
       "        vertical-align: top;\n",
       "    }\n",
       "\n",
       "    .dataframe thead th {\n",
       "        text-align: right;\n",
       "    }\n",
       "</style>\n",
       "<table border=\"1\" class=\"dataframe\">\n",
       "  <thead>\n",
       "    <tr style=\"text-align: right;\">\n",
       "      <th></th>\n",
       "      <th>employee_id</th>\n",
       "      <th>department</th>\n",
       "      <th>region</th>\n",
       "      <th>education</th>\n",
       "      <th>gender</th>\n",
       "      <th>recruitment_channel</th>\n",
       "      <th>no_of_trainings</th>\n",
       "      <th>age</th>\n",
       "      <th>previous_year_rating</th>\n",
       "      <th>length_of_service</th>\n",
       "      <th>KPIs_met &gt;80%</th>\n",
       "      <th>awards_won?</th>\n",
       "      <th>avg_training_score</th>\n",
       "      <th>last_evaluation_score</th>\n",
       "    </tr>\n",
       "  </thead>\n",
       "  <tbody>\n",
       "    <tr>\n",
       "      <th>0</th>\n",
       "      <td>3</td>\n",
       "      <td>Operations</td>\n",
       "      <td>region_22</td>\n",
       "      <td>Master's &amp; above</td>\n",
       "      <td>f</td>\n",
       "      <td>other</td>\n",
       "      <td>1</td>\n",
       "      <td>38</td>\n",
       "      <td>5.0</td>\n",
       "      <td>4</td>\n",
       "      <td>1</td>\n",
       "      <td>0</td>\n",
       "      <td>67</td>\n",
       "      <td>0.73</td>\n",
       "    </tr>\n",
       "    <tr>\n",
       "      <th>1</th>\n",
       "      <td>6</td>\n",
       "      <td>Operations</td>\n",
       "      <td>region_15</td>\n",
       "      <td>Bachelor's</td>\n",
       "      <td>f</td>\n",
       "      <td>other</td>\n",
       "      <td>1</td>\n",
       "      <td>38</td>\n",
       "      <td>3.0</td>\n",
       "      <td>10</td>\n",
       "      <td>0</td>\n",
       "      <td>0</td>\n",
       "      <td>50</td>\n",
       "      <td>0.76</td>\n",
       "    </tr>\n",
       "    <tr>\n",
       "      <th>2</th>\n",
       "      <td>11</td>\n",
       "      <td>Sales &amp; Marketing</td>\n",
       "      <td>region_4</td>\n",
       "      <td>Master's &amp; above</td>\n",
       "      <td>f</td>\n",
       "      <td>sourcing</td>\n",
       "      <td>1</td>\n",
       "      <td>39</td>\n",
       "      <td>4.0</td>\n",
       "      <td>12</td>\n",
       "      <td>1</td>\n",
       "      <td>0</td>\n",
       "      <td>72</td>\n",
       "      <td>0.58</td>\n",
       "    </tr>\n",
       "    <tr>\n",
       "      <th>3</th>\n",
       "      <td>13</td>\n",
       "      <td>Operations</td>\n",
       "      <td>region_17</td>\n",
       "      <td>Bachelor's</td>\n",
       "      <td>m</td>\n",
       "      <td>other</td>\n",
       "      <td>1</td>\n",
       "      <td>38</td>\n",
       "      <td>1.0</td>\n",
       "      <td>5</td>\n",
       "      <td>1</td>\n",
       "      <td>0</td>\n",
       "      <td>47</td>\n",
       "      <td>0.39</td>\n",
       "    </tr>\n",
       "    <tr>\n",
       "      <th>4</th>\n",
       "      <td>16</td>\n",
       "      <td>Operations</td>\n",
       "      <td>region_4</td>\n",
       "      <td>Master's &amp; above</td>\n",
       "      <td>m</td>\n",
       "      <td>sourcing</td>\n",
       "      <td>1</td>\n",
       "      <td>40</td>\n",
       "      <td>5.0</td>\n",
       "      <td>5</td>\n",
       "      <td>0</td>\n",
       "      <td>0</td>\n",
       "      <td>53</td>\n",
       "      <td>0.58</td>\n",
       "    </tr>\n",
       "    <tr>\n",
       "      <th>...</th>\n",
       "      <td>...</td>\n",
       "      <td>...</td>\n",
       "      <td>...</td>\n",
       "      <td>...</td>\n",
       "      <td>...</td>\n",
       "      <td>...</td>\n",
       "      <td>...</td>\n",
       "      <td>...</td>\n",
       "      <td>...</td>\n",
       "      <td>...</td>\n",
       "      <td>...</td>\n",
       "      <td>...</td>\n",
       "      <td>...</td>\n",
       "      <td>...</td>\n",
       "    </tr>\n",
       "    <tr>\n",
       "      <th>23485</th>\n",
       "      <td>78280</td>\n",
       "      <td>Analytics</td>\n",
       "      <td>region_7</td>\n",
       "      <td>Bachelor's</td>\n",
       "      <td>m</td>\n",
       "      <td>sourcing</td>\n",
       "      <td>2</td>\n",
       "      <td>30</td>\n",
       "      <td>NaN</td>\n",
       "      <td>1</td>\n",
       "      <td>0</td>\n",
       "      <td>0</td>\n",
       "      <td>51</td>\n",
       "      <td>1.00</td>\n",
       "    </tr>\n",
       "    <tr>\n",
       "      <th>23486</th>\n",
       "      <td>78283</td>\n",
       "      <td>Procurement</td>\n",
       "      <td>region_12</td>\n",
       "      <td>Bachelor's</td>\n",
       "      <td>f</td>\n",
       "      <td>sourcing</td>\n",
       "      <td>1</td>\n",
       "      <td>28</td>\n",
       "      <td>3.0</td>\n",
       "      <td>4</td>\n",
       "      <td>0</td>\n",
       "      <td>0</td>\n",
       "      <td>57</td>\n",
       "      <td>0.84</td>\n",
       "    </tr>\n",
       "    <tr>\n",
       "      <th>23487</th>\n",
       "      <td>78284</td>\n",
       "      <td>Technology</td>\n",
       "      <td>region_22</td>\n",
       "      <td>Bachelor's</td>\n",
       "      <td>m</td>\n",
       "      <td>referred</td>\n",
       "      <td>1</td>\n",
       "      <td>33</td>\n",
       "      <td>3.0</td>\n",
       "      <td>5</td>\n",
       "      <td>1</td>\n",
       "      <td>1</td>\n",
       "      <td>82</td>\n",
       "      <td>0.62</td>\n",
       "    </tr>\n",
       "    <tr>\n",
       "      <th>23488</th>\n",
       "      <td>78293</td>\n",
       "      <td>Sales &amp; Marketing</td>\n",
       "      <td>region_27</td>\n",
       "      <td>Bachelor's</td>\n",
       "      <td>f</td>\n",
       "      <td>other</td>\n",
       "      <td>1</td>\n",
       "      <td>26</td>\n",
       "      <td>3.0</td>\n",
       "      <td>3</td>\n",
       "      <td>1</td>\n",
       "      <td>0</td>\n",
       "      <td>64</td>\n",
       "      <td>0.87</td>\n",
       "    </tr>\n",
       "    <tr>\n",
       "      <th>23489</th>\n",
       "      <td>78295</td>\n",
       "      <td>Operations</td>\n",
       "      <td>region_14</td>\n",
       "      <td>Bachelor's</td>\n",
       "      <td>f</td>\n",
       "      <td>sourcing</td>\n",
       "      <td>1</td>\n",
       "      <td>36</td>\n",
       "      <td>3.0</td>\n",
       "      <td>5</td>\n",
       "      <td>0</td>\n",
       "      <td>0</td>\n",
       "      <td>48</td>\n",
       "      <td>0.62</td>\n",
       "    </tr>\n",
       "  </tbody>\n",
       "</table>\n",
       "<p>23490 rows × 14 columns</p>\n",
       "</div>"
      ],
      "text/plain": [
       "       employee_id         department     region         education gender  \\\n",
       "0                3         Operations  region_22  Master's & above      f   \n",
       "1                6         Operations  region_15        Bachelor's      f   \n",
       "2               11  Sales & Marketing   region_4  Master's & above      f   \n",
       "3               13         Operations  region_17        Bachelor's      m   \n",
       "4               16         Operations   region_4  Master's & above      m   \n",
       "...            ...                ...        ...               ...    ...   \n",
       "23485        78280          Analytics   region_7        Bachelor's      m   \n",
       "23486        78283        Procurement  region_12        Bachelor's      f   \n",
       "23487        78284         Technology  region_22        Bachelor's      m   \n",
       "23488        78293  Sales & Marketing  region_27        Bachelor's      f   \n",
       "23489        78295         Operations  region_14        Bachelor's      f   \n",
       "\n",
       "      recruitment_channel  no_of_trainings  age  previous_year_rating  \\\n",
       "0                   other                1   38                   5.0   \n",
       "1                   other                1   38                   3.0   \n",
       "2                sourcing                1   39                   4.0   \n",
       "3                   other                1   38                   1.0   \n",
       "4                sourcing                1   40                   5.0   \n",
       "...                   ...              ...  ...                   ...   \n",
       "23485            sourcing                2   30                   NaN   \n",
       "23486            sourcing                1   28                   3.0   \n",
       "23487            referred                1   33                   3.0   \n",
       "23488               other                1   26                   3.0   \n",
       "23489            sourcing                1   36                   3.0   \n",
       "\n",
       "       length_of_service  KPIs_met >80%  awards_won?  avg_training_score  \\\n",
       "0                      4              1            0                  67   \n",
       "1                     10              0            0                  50   \n",
       "2                     12              1            0                  72   \n",
       "3                      5              1            0                  47   \n",
       "4                      5              0            0                  53   \n",
       "...                  ...            ...          ...                 ...   \n",
       "23485                  1              0            0                  51   \n",
       "23486                  4              0            0                  57   \n",
       "23487                  5              1            1                  82   \n",
       "23488                  3              1            0                  64   \n",
       "23489                  5              0            0                  48   \n",
       "\n",
       "       last_evaluation_score  \n",
       "0                       0.73  \n",
       "1                       0.76  \n",
       "2                       0.58  \n",
       "3                       0.39  \n",
       "4                       0.58  \n",
       "...                      ...  \n",
       "23485                   1.00  \n",
       "23486                   0.84  \n",
       "23487                   0.62  \n",
       "23488                   0.87  \n",
       "23489                   0.62  \n",
       "\n",
       "[23490 rows x 14 columns]"
      ]
     },
     "execution_count": 281,
     "metadata": {},
     "output_type": "execute_result"
    }
   ],
   "source": [
    "data"
   ]
  },
  {
   "attachments": {},
   "cell_type": "markdown",
   "id": "d4ed36b7-aba4-4ffd-b1e0-9c37c5e70b0b",
   "metadata": {},
   "source": [
    "## Setting up Hypothesis\n",
    "\n",
    "Null Hypothesis -> H0 : There is no significant difference between the evaluation scores before and after the training\n",
    "\n",
    "Alternate Hypothesis -> H1 : There is a significant difference between the evaluation scores before and after the training"
   ]
  },
  {
   "cell_type": "code",
   "execution_count": 282,
   "id": "ac83b70c-80f1-4254-adf2-520dd1836b87",
   "metadata": {},
   "outputs": [],
   "source": [
    "data=data.dropna()"
   ]
  },
  {
   "cell_type": "code",
   "execution_count": 283,
   "id": "704514e3-d20d-43b5-b792-ac4f3b8d0dd2",
   "metadata": {},
   "outputs": [
    {
     "data": {
      "text/html": [
       "<div>\n",
       "<style scoped>\n",
       "    .dataframe tbody tr th:only-of-type {\n",
       "        vertical-align: middle;\n",
       "    }\n",
       "\n",
       "    .dataframe tbody tr th {\n",
       "        vertical-align: top;\n",
       "    }\n",
       "\n",
       "    .dataframe thead th {\n",
       "        text-align: right;\n",
       "    }\n",
       "</style>\n",
       "<table border=\"1\" class=\"dataframe\">\n",
       "  <thead>\n",
       "    <tr style=\"text-align: right;\">\n",
       "      <th></th>\n",
       "      <th>employee_id</th>\n",
       "      <th>department</th>\n",
       "      <th>region</th>\n",
       "      <th>education</th>\n",
       "      <th>gender</th>\n",
       "      <th>recruitment_channel</th>\n",
       "      <th>no_of_trainings</th>\n",
       "      <th>age</th>\n",
       "      <th>previous_year_rating</th>\n",
       "      <th>length_of_service</th>\n",
       "      <th>KPIs_met &gt;80%</th>\n",
       "      <th>awards_won?</th>\n",
       "      <th>avg_training_score</th>\n",
       "      <th>last_evaluation_score</th>\n",
       "    </tr>\n",
       "  </thead>\n",
       "  <tbody>\n",
       "    <tr>\n",
       "      <th>0</th>\n",
       "      <td>3</td>\n",
       "      <td>Operations</td>\n",
       "      <td>region_22</td>\n",
       "      <td>Master's &amp; above</td>\n",
       "      <td>f</td>\n",
       "      <td>other</td>\n",
       "      <td>1</td>\n",
       "      <td>38</td>\n",
       "      <td>5.0</td>\n",
       "      <td>4</td>\n",
       "      <td>1</td>\n",
       "      <td>0</td>\n",
       "      <td>67</td>\n",
       "      <td>0.73</td>\n",
       "    </tr>\n",
       "    <tr>\n",
       "      <th>1</th>\n",
       "      <td>6</td>\n",
       "      <td>Operations</td>\n",
       "      <td>region_15</td>\n",
       "      <td>Bachelor's</td>\n",
       "      <td>f</td>\n",
       "      <td>other</td>\n",
       "      <td>1</td>\n",
       "      <td>38</td>\n",
       "      <td>3.0</td>\n",
       "      <td>10</td>\n",
       "      <td>0</td>\n",
       "      <td>0</td>\n",
       "      <td>50</td>\n",
       "      <td>0.76</td>\n",
       "    </tr>\n",
       "    <tr>\n",
       "      <th>2</th>\n",
       "      <td>11</td>\n",
       "      <td>Sales &amp; Marketing</td>\n",
       "      <td>region_4</td>\n",
       "      <td>Master's &amp; above</td>\n",
       "      <td>f</td>\n",
       "      <td>sourcing</td>\n",
       "      <td>1</td>\n",
       "      <td>39</td>\n",
       "      <td>4.0</td>\n",
       "      <td>12</td>\n",
       "      <td>1</td>\n",
       "      <td>0</td>\n",
       "      <td>72</td>\n",
       "      <td>0.58</td>\n",
       "    </tr>\n",
       "    <tr>\n",
       "      <th>3</th>\n",
       "      <td>13</td>\n",
       "      <td>Operations</td>\n",
       "      <td>region_17</td>\n",
       "      <td>Bachelor's</td>\n",
       "      <td>m</td>\n",
       "      <td>other</td>\n",
       "      <td>1</td>\n",
       "      <td>38</td>\n",
       "      <td>1.0</td>\n",
       "      <td>5</td>\n",
       "      <td>1</td>\n",
       "      <td>0</td>\n",
       "      <td>47</td>\n",
       "      <td>0.39</td>\n",
       "    </tr>\n",
       "    <tr>\n",
       "      <th>4</th>\n",
       "      <td>16</td>\n",
       "      <td>Operations</td>\n",
       "      <td>region_4</td>\n",
       "      <td>Master's &amp; above</td>\n",
       "      <td>m</td>\n",
       "      <td>sourcing</td>\n",
       "      <td>1</td>\n",
       "      <td>40</td>\n",
       "      <td>5.0</td>\n",
       "      <td>5</td>\n",
       "      <td>0</td>\n",
       "      <td>0</td>\n",
       "      <td>53</td>\n",
       "      <td>0.58</td>\n",
       "    </tr>\n",
       "    <tr>\n",
       "      <th>...</th>\n",
       "      <td>...</td>\n",
       "      <td>...</td>\n",
       "      <td>...</td>\n",
       "      <td>...</td>\n",
       "      <td>...</td>\n",
       "      <td>...</td>\n",
       "      <td>...</td>\n",
       "      <td>...</td>\n",
       "      <td>...</td>\n",
       "      <td>...</td>\n",
       "      <td>...</td>\n",
       "      <td>...</td>\n",
       "      <td>...</td>\n",
       "      <td>...</td>\n",
       "    </tr>\n",
       "    <tr>\n",
       "      <th>23484</th>\n",
       "      <td>78279</td>\n",
       "      <td>Sales &amp; Marketing</td>\n",
       "      <td>region_31</td>\n",
       "      <td>Master's &amp; above</td>\n",
       "      <td>m</td>\n",
       "      <td>sourcing</td>\n",
       "      <td>1</td>\n",
       "      <td>37</td>\n",
       "      <td>5.0</td>\n",
       "      <td>7</td>\n",
       "      <td>1</td>\n",
       "      <td>0</td>\n",
       "      <td>57</td>\n",
       "      <td>0.52</td>\n",
       "    </tr>\n",
       "    <tr>\n",
       "      <th>23486</th>\n",
       "      <td>78283</td>\n",
       "      <td>Procurement</td>\n",
       "      <td>region_12</td>\n",
       "      <td>Bachelor's</td>\n",
       "      <td>f</td>\n",
       "      <td>sourcing</td>\n",
       "      <td>1</td>\n",
       "      <td>28</td>\n",
       "      <td>3.0</td>\n",
       "      <td>4</td>\n",
       "      <td>0</td>\n",
       "      <td>0</td>\n",
       "      <td>57</td>\n",
       "      <td>0.84</td>\n",
       "    </tr>\n",
       "    <tr>\n",
       "      <th>23487</th>\n",
       "      <td>78284</td>\n",
       "      <td>Technology</td>\n",
       "      <td>region_22</td>\n",
       "      <td>Bachelor's</td>\n",
       "      <td>m</td>\n",
       "      <td>referred</td>\n",
       "      <td>1</td>\n",
       "      <td>33</td>\n",
       "      <td>3.0</td>\n",
       "      <td>5</td>\n",
       "      <td>1</td>\n",
       "      <td>1</td>\n",
       "      <td>82</td>\n",
       "      <td>0.62</td>\n",
       "    </tr>\n",
       "    <tr>\n",
       "      <th>23488</th>\n",
       "      <td>78293</td>\n",
       "      <td>Sales &amp; Marketing</td>\n",
       "      <td>region_27</td>\n",
       "      <td>Bachelor's</td>\n",
       "      <td>f</td>\n",
       "      <td>other</td>\n",
       "      <td>1</td>\n",
       "      <td>26</td>\n",
       "      <td>3.0</td>\n",
       "      <td>3</td>\n",
       "      <td>1</td>\n",
       "      <td>0</td>\n",
       "      <td>64</td>\n",
       "      <td>0.87</td>\n",
       "    </tr>\n",
       "    <tr>\n",
       "      <th>23489</th>\n",
       "      <td>78295</td>\n",
       "      <td>Operations</td>\n",
       "      <td>region_14</td>\n",
       "      <td>Bachelor's</td>\n",
       "      <td>f</td>\n",
       "      <td>sourcing</td>\n",
       "      <td>1</td>\n",
       "      <td>36</td>\n",
       "      <td>3.0</td>\n",
       "      <td>5</td>\n",
       "      <td>0</td>\n",
       "      <td>0</td>\n",
       "      <td>48</td>\n",
       "      <td>0.62</td>\n",
       "    </tr>\n",
       "  </tbody>\n",
       "</table>\n",
       "<p>20819 rows × 14 columns</p>\n",
       "</div>"
      ],
      "text/plain": [
       "       employee_id         department     region         education gender  \\\n",
       "0                3         Operations  region_22  Master's & above      f   \n",
       "1                6         Operations  region_15        Bachelor's      f   \n",
       "2               11  Sales & Marketing   region_4  Master's & above      f   \n",
       "3               13         Operations  region_17        Bachelor's      m   \n",
       "4               16         Operations   region_4  Master's & above      m   \n",
       "...            ...                ...        ...               ...    ...   \n",
       "23484        78279  Sales & Marketing  region_31  Master's & above      m   \n",
       "23486        78283        Procurement  region_12        Bachelor's      f   \n",
       "23487        78284         Technology  region_22        Bachelor's      m   \n",
       "23488        78293  Sales & Marketing  region_27        Bachelor's      f   \n",
       "23489        78295         Operations  region_14        Bachelor's      f   \n",
       "\n",
       "      recruitment_channel  no_of_trainings  age  previous_year_rating  \\\n",
       "0                   other                1   38                   5.0   \n",
       "1                   other                1   38                   3.0   \n",
       "2                sourcing                1   39                   4.0   \n",
       "3                   other                1   38                   1.0   \n",
       "4                sourcing                1   40                   5.0   \n",
       "...                   ...              ...  ...                   ...   \n",
       "23484            sourcing                1   37                   5.0   \n",
       "23486            sourcing                1   28                   3.0   \n",
       "23487            referred                1   33                   3.0   \n",
       "23488               other                1   26                   3.0   \n",
       "23489            sourcing                1   36                   3.0   \n",
       "\n",
       "       length_of_service  KPIs_met >80%  awards_won?  avg_training_score  \\\n",
       "0                      4              1            0                  67   \n",
       "1                     10              0            0                  50   \n",
       "2                     12              1            0                  72   \n",
       "3                      5              1            0                  47   \n",
       "4                      5              0            0                  53   \n",
       "...                  ...            ...          ...                 ...   \n",
       "23484                  7              1            0                  57   \n",
       "23486                  4              0            0                  57   \n",
       "23487                  5              1            1                  82   \n",
       "23488                  3              1            0                  64   \n",
       "23489                  5              0            0                  48   \n",
       "\n",
       "       last_evaluation_score  \n",
       "0                       0.73  \n",
       "1                       0.76  \n",
       "2                       0.58  \n",
       "3                       0.39  \n",
       "4                       0.58  \n",
       "...                      ...  \n",
       "23484                   0.52  \n",
       "23486                   0.84  \n",
       "23487                   0.62  \n",
       "23488                   0.87  \n",
       "23489                   0.62  \n",
       "\n",
       "[20819 rows x 14 columns]"
      ]
     },
     "execution_count": 283,
     "metadata": {},
     "output_type": "execute_result"
    }
   ],
   "source": [
    "data"
   ]
  },
  {
   "cell_type": "code",
   "execution_count": 284,
   "id": "ea5b0223-46f8-4303-94af-b5fce5d52406",
   "metadata": {},
   "outputs": [
    {
     "data": {
      "text/plain": [
       "<bound method NDFrame.describe of        employee_id         department     region         education gender  \\\n",
       "0                3         Operations  region_22  Master's & above      f   \n",
       "1                6         Operations  region_15        Bachelor's      f   \n",
       "2               11  Sales & Marketing   region_4  Master's & above      f   \n",
       "3               13         Operations  region_17        Bachelor's      m   \n",
       "4               16         Operations   region_4  Master's & above      m   \n",
       "...            ...                ...        ...               ...    ...   \n",
       "23484        78279  Sales & Marketing  region_31  Master's & above      m   \n",
       "23486        78283        Procurement  region_12        Bachelor's      f   \n",
       "23487        78284         Technology  region_22        Bachelor's      m   \n",
       "23488        78293  Sales & Marketing  region_27        Bachelor's      f   \n",
       "23489        78295         Operations  region_14        Bachelor's      f   \n",
       "\n",
       "      recruitment_channel  no_of_trainings  age  previous_year_rating  \\\n",
       "0                   other                1   38                   5.0   \n",
       "1                   other                1   38                   3.0   \n",
       "2                sourcing                1   39                   4.0   \n",
       "3                   other                1   38                   1.0   \n",
       "4                sourcing                1   40                   5.0   \n",
       "...                   ...              ...  ...                   ...   \n",
       "23484            sourcing                1   37                   5.0   \n",
       "23486            sourcing                1   28                   3.0   \n",
       "23487            referred                1   33                   3.0   \n",
       "23488               other                1   26                   3.0   \n",
       "23489            sourcing                1   36                   3.0   \n",
       "\n",
       "       length_of_service  KPIs_met >80%  awards_won?  avg_training_score  \\\n",
       "0                      4              1            0                  67   \n",
       "1                     10              0            0                  50   \n",
       "2                     12              1            0                  72   \n",
       "3                      5              1            0                  47   \n",
       "4                      5              0            0                  53   \n",
       "...                  ...            ...          ...                 ...   \n",
       "23484                  7              1            0                  57   \n",
       "23486                  4              0            0                  57   \n",
       "23487                  5              1            1                  82   \n",
       "23488                  3              1            0                  64   \n",
       "23489                  5              0            0                  48   \n",
       "\n",
       "       last_evaluation_score  \n",
       "0                       0.73  \n",
       "1                       0.76  \n",
       "2                       0.58  \n",
       "3                       0.39  \n",
       "4                       0.58  \n",
       "...                      ...  \n",
       "23484                   0.52  \n",
       "23486                   0.84  \n",
       "23487                   0.62  \n",
       "23488                   0.87  \n",
       "23489                   0.62  \n",
       "\n",
       "[20819 rows x 14 columns]>"
      ]
     },
     "execution_count": 284,
     "metadata": {},
     "output_type": "execute_result"
    }
   ],
   "source": [
    "data.describe"
   ]
  },
  {
   "cell_type": "markdown",
   "id": "95865947-a590-4d3b-b110-f986ba706518",
   "metadata": {},
   "source": [
    "### Performing normalization of previous_year_rating\n",
    "\n",
    "Scale of previous_year_rating will be matched with scale of last_evaluation_score "
   ]
  },
  {
   "cell_type": "code",
   "execution_count": 285,
   "id": "057fc59f-9a50-448e-bb89-67415c9ed2ab",
   "metadata": {},
   "outputs": [
    {
     "name": "stdout",
     "output_type": "stream",
     "text": [
      "1.0\n",
      "5.0\n",
      "0.36\n",
      "1.0\n"
     ]
    }
   ],
   "source": [
    "print(data['previous_year_rating'].min())\n",
    "print(data['previous_year_rating'].max())\n",
    "print(data['last_evaluation_score'].min())\n",
    "print(data['last_evaluation_score'].max())"
   ]
  },
  {
   "cell_type": "code",
   "execution_count": 286,
   "id": "2b6ec54e-c5da-4761-b5ea-72a8aa27bf9f",
   "metadata": {},
   "outputs": [
    {
     "data": {
      "text/plain": [
       "department\n",
       "Sales & Marketing    6450\n",
       "Operations           4234\n",
       "Technology           2692\n",
       "Procurement          2668\n",
       "Analytics            2057\n",
       "HR                    976\n",
       "Finance               958\n",
       "Legal                 397\n",
       "R&D                   387\n",
       "Name: count, dtype: int64"
      ]
     },
     "execution_count": 286,
     "metadata": {},
     "output_type": "execute_result"
    }
   ],
   "source": [
    "data['department'].value_counts()"
   ]
  },
  {
   "cell_type": "code",
   "execution_count": 287,
   "id": "291c19d1-b2a6-44de-b1f9-6260190c64e0",
   "metadata": {},
   "outputs": [
    {
     "name": "stderr",
     "output_type": "stream",
     "text": [
      "C:\\Users\\vinot\\AppData\\Local\\Temp\\ipykernel_2764\\685914718.py:1: SettingWithCopyWarning: \n",
      "A value is trying to be set on a copy of a slice from a DataFrame.\n",
      "Try using .loc[row_indexer,col_indexer] = value instead\n",
      "\n",
      "See the caveats in the documentation: https://pandas.pydata.org/pandas-docs/stable/user_guide/indexing.html#returning-a-view-versus-a-copy\n",
      "  data['new_prev']=(data['previous_year_rating']-data['previous_year_rating'].mean())/(data['previous_year_rating'].std())\n"
     ]
    }
   ],
   "source": [
    "data['new_prev']=(data['previous_year_rating']-data['previous_year_rating'].mean())/(data['previous_year_rating'].std())"
   ]
  },
  {
   "cell_type": "code",
   "execution_count": 288,
   "id": "6dae3684-2db6-4654-b379-43dbeeba716a",
   "metadata": {},
   "outputs": [
    {
     "data": {
      "text/html": [
       "<div>\n",
       "<style scoped>\n",
       "    .dataframe tbody tr th:only-of-type {\n",
       "        vertical-align: middle;\n",
       "    }\n",
       "\n",
       "    .dataframe tbody tr th {\n",
       "        vertical-align: top;\n",
       "    }\n",
       "\n",
       "    .dataframe thead th {\n",
       "        text-align: right;\n",
       "    }\n",
       "</style>\n",
       "<table border=\"1\" class=\"dataframe\">\n",
       "  <thead>\n",
       "    <tr style=\"text-align: right;\">\n",
       "      <th></th>\n",
       "      <th>employee_id</th>\n",
       "      <th>department</th>\n",
       "      <th>region</th>\n",
       "      <th>education</th>\n",
       "      <th>gender</th>\n",
       "      <th>recruitment_channel</th>\n",
       "      <th>no_of_trainings</th>\n",
       "      <th>age</th>\n",
       "      <th>previous_year_rating</th>\n",
       "      <th>length_of_service</th>\n",
       "      <th>KPIs_met &gt;80%</th>\n",
       "      <th>awards_won?</th>\n",
       "      <th>avg_training_score</th>\n",
       "      <th>last_evaluation_score</th>\n",
       "      <th>new_prev</th>\n",
       "    </tr>\n",
       "  </thead>\n",
       "  <tbody>\n",
       "    <tr>\n",
       "      <th>0</th>\n",
       "      <td>3</td>\n",
       "      <td>Operations</td>\n",
       "      <td>region_22</td>\n",
       "      <td>Master's &amp; above</td>\n",
       "      <td>f</td>\n",
       "      <td>other</td>\n",
       "      <td>1</td>\n",
       "      <td>38</td>\n",
       "      <td>5.0</td>\n",
       "      <td>4</td>\n",
       "      <td>1</td>\n",
       "      <td>0</td>\n",
       "      <td>67</td>\n",
       "      <td>0.73</td>\n",
       "      <td>1.308394</td>\n",
       "    </tr>\n",
       "    <tr>\n",
       "      <th>1</th>\n",
       "      <td>6</td>\n",
       "      <td>Operations</td>\n",
       "      <td>region_15</td>\n",
       "      <td>Bachelor's</td>\n",
       "      <td>f</td>\n",
       "      <td>other</td>\n",
       "      <td>1</td>\n",
       "      <td>38</td>\n",
       "      <td>3.0</td>\n",
       "      <td>10</td>\n",
       "      <td>0</td>\n",
       "      <td>0</td>\n",
       "      <td>50</td>\n",
       "      <td>0.76</td>\n",
       "      <td>-0.276078</td>\n",
       "    </tr>\n",
       "    <tr>\n",
       "      <th>2</th>\n",
       "      <td>11</td>\n",
       "      <td>Sales &amp; Marketing</td>\n",
       "      <td>region_4</td>\n",
       "      <td>Master's &amp; above</td>\n",
       "      <td>f</td>\n",
       "      <td>sourcing</td>\n",
       "      <td>1</td>\n",
       "      <td>39</td>\n",
       "      <td>4.0</td>\n",
       "      <td>12</td>\n",
       "      <td>1</td>\n",
       "      <td>0</td>\n",
       "      <td>72</td>\n",
       "      <td>0.58</td>\n",
       "      <td>0.516158</td>\n",
       "    </tr>\n",
       "    <tr>\n",
       "      <th>3</th>\n",
       "      <td>13</td>\n",
       "      <td>Operations</td>\n",
       "      <td>region_17</td>\n",
       "      <td>Bachelor's</td>\n",
       "      <td>m</td>\n",
       "      <td>other</td>\n",
       "      <td>1</td>\n",
       "      <td>38</td>\n",
       "      <td>1.0</td>\n",
       "      <td>5</td>\n",
       "      <td>1</td>\n",
       "      <td>0</td>\n",
       "      <td>47</td>\n",
       "      <td>0.39</td>\n",
       "      <td>-1.860551</td>\n",
       "    </tr>\n",
       "    <tr>\n",
       "      <th>4</th>\n",
       "      <td>16</td>\n",
       "      <td>Operations</td>\n",
       "      <td>region_4</td>\n",
       "      <td>Master's &amp; above</td>\n",
       "      <td>m</td>\n",
       "      <td>sourcing</td>\n",
       "      <td>1</td>\n",
       "      <td>40</td>\n",
       "      <td>5.0</td>\n",
       "      <td>5</td>\n",
       "      <td>0</td>\n",
       "      <td>0</td>\n",
       "      <td>53</td>\n",
       "      <td>0.58</td>\n",
       "      <td>1.308394</td>\n",
       "    </tr>\n",
       "    <tr>\n",
       "      <th>...</th>\n",
       "      <td>...</td>\n",
       "      <td>...</td>\n",
       "      <td>...</td>\n",
       "      <td>...</td>\n",
       "      <td>...</td>\n",
       "      <td>...</td>\n",
       "      <td>...</td>\n",
       "      <td>...</td>\n",
       "      <td>...</td>\n",
       "      <td>...</td>\n",
       "      <td>...</td>\n",
       "      <td>...</td>\n",
       "      <td>...</td>\n",
       "      <td>...</td>\n",
       "      <td>...</td>\n",
       "    </tr>\n",
       "    <tr>\n",
       "      <th>23484</th>\n",
       "      <td>78279</td>\n",
       "      <td>Sales &amp; Marketing</td>\n",
       "      <td>region_31</td>\n",
       "      <td>Master's &amp; above</td>\n",
       "      <td>m</td>\n",
       "      <td>sourcing</td>\n",
       "      <td>1</td>\n",
       "      <td>37</td>\n",
       "      <td>5.0</td>\n",
       "      <td>7</td>\n",
       "      <td>1</td>\n",
       "      <td>0</td>\n",
       "      <td>57</td>\n",
       "      <td>0.52</td>\n",
       "      <td>1.308394</td>\n",
       "    </tr>\n",
       "    <tr>\n",
       "      <th>23486</th>\n",
       "      <td>78283</td>\n",
       "      <td>Procurement</td>\n",
       "      <td>region_12</td>\n",
       "      <td>Bachelor's</td>\n",
       "      <td>f</td>\n",
       "      <td>sourcing</td>\n",
       "      <td>1</td>\n",
       "      <td>28</td>\n",
       "      <td>3.0</td>\n",
       "      <td>4</td>\n",
       "      <td>0</td>\n",
       "      <td>0</td>\n",
       "      <td>57</td>\n",
       "      <td>0.84</td>\n",
       "      <td>-0.276078</td>\n",
       "    </tr>\n",
       "    <tr>\n",
       "      <th>23487</th>\n",
       "      <td>78284</td>\n",
       "      <td>Technology</td>\n",
       "      <td>region_22</td>\n",
       "      <td>Bachelor's</td>\n",
       "      <td>m</td>\n",
       "      <td>referred</td>\n",
       "      <td>1</td>\n",
       "      <td>33</td>\n",
       "      <td>3.0</td>\n",
       "      <td>5</td>\n",
       "      <td>1</td>\n",
       "      <td>1</td>\n",
       "      <td>82</td>\n",
       "      <td>0.62</td>\n",
       "      <td>-0.276078</td>\n",
       "    </tr>\n",
       "    <tr>\n",
       "      <th>23488</th>\n",
       "      <td>78293</td>\n",
       "      <td>Sales &amp; Marketing</td>\n",
       "      <td>region_27</td>\n",
       "      <td>Bachelor's</td>\n",
       "      <td>f</td>\n",
       "      <td>other</td>\n",
       "      <td>1</td>\n",
       "      <td>26</td>\n",
       "      <td>3.0</td>\n",
       "      <td>3</td>\n",
       "      <td>1</td>\n",
       "      <td>0</td>\n",
       "      <td>64</td>\n",
       "      <td>0.87</td>\n",
       "      <td>-0.276078</td>\n",
       "    </tr>\n",
       "    <tr>\n",
       "      <th>23489</th>\n",
       "      <td>78295</td>\n",
       "      <td>Operations</td>\n",
       "      <td>region_14</td>\n",
       "      <td>Bachelor's</td>\n",
       "      <td>f</td>\n",
       "      <td>sourcing</td>\n",
       "      <td>1</td>\n",
       "      <td>36</td>\n",
       "      <td>3.0</td>\n",
       "      <td>5</td>\n",
       "      <td>0</td>\n",
       "      <td>0</td>\n",
       "      <td>48</td>\n",
       "      <td>0.62</td>\n",
       "      <td>-0.276078</td>\n",
       "    </tr>\n",
       "  </tbody>\n",
       "</table>\n",
       "<p>20819 rows × 15 columns</p>\n",
       "</div>"
      ],
      "text/plain": [
       "       employee_id         department     region         education gender  \\\n",
       "0                3         Operations  region_22  Master's & above      f   \n",
       "1                6         Operations  region_15        Bachelor's      f   \n",
       "2               11  Sales & Marketing   region_4  Master's & above      f   \n",
       "3               13         Operations  region_17        Bachelor's      m   \n",
       "4               16         Operations   region_4  Master's & above      m   \n",
       "...            ...                ...        ...               ...    ...   \n",
       "23484        78279  Sales & Marketing  region_31  Master's & above      m   \n",
       "23486        78283        Procurement  region_12        Bachelor's      f   \n",
       "23487        78284         Technology  region_22        Bachelor's      m   \n",
       "23488        78293  Sales & Marketing  region_27        Bachelor's      f   \n",
       "23489        78295         Operations  region_14        Bachelor's      f   \n",
       "\n",
       "      recruitment_channel  no_of_trainings  age  previous_year_rating  \\\n",
       "0                   other                1   38                   5.0   \n",
       "1                   other                1   38                   3.0   \n",
       "2                sourcing                1   39                   4.0   \n",
       "3                   other                1   38                   1.0   \n",
       "4                sourcing                1   40                   5.0   \n",
       "...                   ...              ...  ...                   ...   \n",
       "23484            sourcing                1   37                   5.0   \n",
       "23486            sourcing                1   28                   3.0   \n",
       "23487            referred                1   33                   3.0   \n",
       "23488               other                1   26                   3.0   \n",
       "23489            sourcing                1   36                   3.0   \n",
       "\n",
       "       length_of_service  KPIs_met >80%  awards_won?  avg_training_score  \\\n",
       "0                      4              1            0                  67   \n",
       "1                     10              0            0                  50   \n",
       "2                     12              1            0                  72   \n",
       "3                      5              1            0                  47   \n",
       "4                      5              0            0                  53   \n",
       "...                  ...            ...          ...                 ...   \n",
       "23484                  7              1            0                  57   \n",
       "23486                  4              0            0                  57   \n",
       "23487                  5              1            1                  82   \n",
       "23488                  3              1            0                  64   \n",
       "23489                  5              0            0                  48   \n",
       "\n",
       "       last_evaluation_score  new_prev  \n",
       "0                       0.73  1.308394  \n",
       "1                       0.76 -0.276078  \n",
       "2                       0.58  0.516158  \n",
       "3                       0.39 -1.860551  \n",
       "4                       0.58  1.308394  \n",
       "...                      ...       ...  \n",
       "23484                   0.52  1.308394  \n",
       "23486                   0.84 -0.276078  \n",
       "23487                   0.62 -0.276078  \n",
       "23488                   0.87 -0.276078  \n",
       "23489                   0.62 -0.276078  \n",
       "\n",
       "[20819 rows x 15 columns]"
      ]
     },
     "execution_count": 288,
     "metadata": {},
     "output_type": "execute_result"
    }
   ],
   "source": [
    "data"
   ]
  },
  {
   "cell_type": "markdown",
   "id": "7e22482f-4fc6-4dc6-808b-ffeb93a2a191",
   "metadata": {},
   "source": [
    "### Performing Paired sample t-test on Analytics department"
   ]
  },
  {
   "cell_type": "code",
   "execution_count": 289,
   "id": "8576e119-c71c-410a-afe3-9d89aba4304a",
   "metadata": {},
   "outputs": [],
   "source": [
    "analytics=data[(data.department==\"Analytics\") & (data.no_of_trainings==1)]\n",
    "analytics_bef=analytics['new_prev'].sample(n=29)\n",
    "analytics_aft=analytics['last_evaluation_score'].sample(n=29)"
   ]
  },
  {
   "cell_type": "code",
   "execution_count": 290,
   "id": "375d0a35-47e2-4305-87a4-a19acb18de7c",
   "metadata": {},
   "outputs": [],
   "source": [
    "tana,p_ana=stats.ttest_rel(analytics_bef,analytics_aft)"
   ]
  },
  {
   "cell_type": "code",
   "execution_count": 291,
   "id": "ee8190d4-7c23-4379-b6ba-6d94a7ac03cc",
   "metadata": {},
   "outputs": [
    {
     "name": "stdout",
     "output_type": "stream",
     "text": [
      "tstatistic value is :  -3.788769516266795\n",
      "p_value  is :  0.07249861757831698\n"
     ]
    }
   ],
   "source": [
    "print(\"tstatistic value is : \",tstatistic)\n",
    "print(\"p_value  is : \",p_ana)"
   ]
  },
  {
   "cell_type": "code",
   "execution_count": 292,
   "id": "640e27e0-9532-4deb-bd4a-9ecbed0832fb",
   "metadata": {},
   "outputs": [
    {
     "name": "stdout",
     "output_type": "stream",
     "text": [
      "We fail to reject the null hypothesis (i.e) There is no significant difference between the evaluation scores before and after the training\n"
     ]
    }
   ],
   "source": [
    "if p_ana<0.05:\n",
    "    print(\"We reject the null hypothesis (i.e) There is a significant difference between the evaluation scores before and after the training\")\n",
    "else:\n",
    "    print(\"We fail to reject the null hypothesis (i.e) There is no significant difference between the evaluation scores before and after the training\")"
   ]
  },
  {
   "cell_type": "markdown",
   "id": "cd19574f-dd16-4d64-a366-2697b037069c",
   "metadata": {},
   "source": [
    "### Performing Paired sample t-test on Finance department"
   ]
  },
  {
   "cell_type": "code",
   "execution_count": 293,
   "id": "48cc6689-1380-4d76-a3f0-21bd12f161bc",
   "metadata": {},
   "outputs": [],
   "source": [
    "finance=data[(data.department==\"Finance\") & (data.no_of_trainings==1)]\n",
    "finance_bef=finance['new_prev'].sample(n=29)\n",
    "finance_aft=finance['last_evaluation_score'].sample(n=29)"
   ]
  },
  {
   "cell_type": "code",
   "execution_count": 294,
   "id": "50733b6e-5270-4881-9dbe-2355a247ab38",
   "metadata": {},
   "outputs": [],
   "source": [
    "tfin,p_fin=stats.ttest_rel(finance_bef,finance_aft)"
   ]
  },
  {
   "cell_type": "code",
   "execution_count": 295,
   "id": "6f662eab-53d0-438e-a06a-8b7bb45a580e",
   "metadata": {},
   "outputs": [
    {
     "name": "stdout",
     "output_type": "stream",
     "text": [
      "tstatistic value is :  -3.788769516266795\n",
      "p_value  is :  6.062615748171395e-05\n"
     ]
    }
   ],
   "source": [
    "print(\"tstatistic value is : \",tstatistic)\n",
    "print(\"p_value  is : \",p_fin)"
   ]
  },
  {
   "cell_type": "code",
   "execution_count": 296,
   "id": "380c6beb-df57-4274-bdb8-1a95efd256fb",
   "metadata": {},
   "outputs": [
    {
     "name": "stdout",
     "output_type": "stream",
     "text": [
      "We reject the null hypothesis (i.e) There is a significant difference between the evaluation scores before and after the training\n"
     ]
    }
   ],
   "source": [
    "if p_fin<0.05:\n",
    "    print(\"We reject the null hypothesis (i.e) There is a significant difference between the evaluation scores before and after the training\")\n",
    "else:\n",
    "    print(\"We fail to reject the null hypothesis (i.e) There is no significant difference between the evaluation scores before and after the training\")"
   ]
  },
  {
   "cell_type": "markdown",
   "id": "e2bb9403-716a-4720-9870-6b7253f475a0",
   "metadata": {},
   "source": [
    "### Performing Paired sample t-test on Legal department"
   ]
  },
  {
   "cell_type": "code",
   "execution_count": 297,
   "id": "ce58c08d-81e6-4d94-aecf-113a419eb73e",
   "metadata": {},
   "outputs": [],
   "source": [
    "Legal=data[(data.department==\"Finance\") & (data.no_of_trainings==1)]\n",
    "Legal_bef=Legal['new_prev'].sample(n=29)\n",
    "Legal_aft=Legal['last_evaluation_score'].sample(n=29)"
   ]
  },
  {
   "cell_type": "code",
   "execution_count": 298,
   "id": "2bb4c79a-f008-4d57-95ba-fc9bf54415b3",
   "metadata": {},
   "outputs": [],
   "source": [
    "tleg,p_leg=stats.ttest_rel(Legal_bef,Legal_aft)"
   ]
  },
  {
   "cell_type": "code",
   "execution_count": 299,
   "id": "d0366317-6d40-427a-bb5d-bddce896d1bb",
   "metadata": {},
   "outputs": [
    {
     "name": "stdout",
     "output_type": "stream",
     "text": [
      "tstatistic value is :  -3.788769516266795\n",
      "p_value  is :  7.254111334301897e-05\n"
     ]
    }
   ],
   "source": [
    "print(\"tstatistic value is : \",tstatistic)\n",
    "print(\"p_value  is : \",p_leg)"
   ]
  },
  {
   "cell_type": "code",
   "execution_count": 300,
   "id": "f87c3862-7299-49e0-8a93-acd0575d0e4a",
   "metadata": {},
   "outputs": [
    {
     "name": "stdout",
     "output_type": "stream",
     "text": [
      "We reject the null hypothesis (i.e) There is a significant difference between the evaluation scores before and after the training\n"
     ]
    }
   ],
   "source": [
    "if p_leg<0.05:\n",
    "    print(\"We reject the null hypothesis (i.e) There is a significant difference between the evaluation scores before and after the training\")\n",
    "else:\n",
    "    print(\"We fail to reject the null hypothesis (i.e) There is no significant difference between the evaluation scores before and after the training\")"
   ]
  },
  {
   "cell_type": "markdown",
   "id": "4c9d0a37-0201-409d-8902-f00917029e97",
   "metadata": {},
   "source": [
    "### Performing Paired sample t-test on Operations department"
   ]
  },
  {
   "cell_type": "code",
   "execution_count": 301,
   "id": "13b9286a-f8d0-43cd-bd53-982422d2b6a6",
   "metadata": {},
   "outputs": [],
   "source": [
    "Operations=data[(data.department==\"Operations\") & (data.no_of_trainings==1)]\n",
    "Operations_bef=Operations['new_prev'].sample(n=29)\n",
    "Operations_aft=Operations['last_evaluation_score'].sample(n=29)"
   ]
  },
  {
   "cell_type": "code",
   "execution_count": 302,
   "id": "325d6e3f-1950-44bf-bc3b-1315a3f12d5a",
   "metadata": {},
   "outputs": [],
   "source": [
    "tope,p_ope=stats.ttest_rel(Operations_bef,Operations_aft)"
   ]
  },
  {
   "cell_type": "code",
   "execution_count": 303,
   "id": "20afb13c-16e3-4436-8be9-e65ed7844414",
   "metadata": {},
   "outputs": [
    {
     "name": "stdout",
     "output_type": "stream",
     "text": [
      "tstatistic value is :  -3.788769516266795\n",
      "p_value  is :  0.016048831412904863\n"
     ]
    }
   ],
   "source": [
    "print(\"tstatistic value is : \",tstatistic)\n",
    "print(\"p_value  is : \",p_ope)"
   ]
  },
  {
   "cell_type": "code",
   "execution_count": 304,
   "id": "dc7083f1-4337-4c40-a5bf-d8c8f5aa59c6",
   "metadata": {},
   "outputs": [
    {
     "name": "stdout",
     "output_type": "stream",
     "text": [
      "We reject the null hypothesis (i.e) There is a significant difference between the evaluation scores before and after the training\n"
     ]
    }
   ],
   "source": [
    "if p_ope<0.05:\n",
    "    print(\"We reject the null hypothesis (i.e) There is a significant difference between the evaluation scores before and after the training\")\n",
    "else:\n",
    "    print(\"We fail to reject the null hypothesis (i.e) There is no significant difference between the evaluation scores before and after the training\")"
   ]
  },
  {
   "cell_type": "markdown",
   "id": "c0d28c82-5c23-4753-aed4-17150b68fb45",
   "metadata": {},
   "source": [
    "### Performing Paired sample t-test on HR department"
   ]
  },
  {
   "cell_type": "code",
   "execution_count": 305,
   "id": "94eb1519-45e7-4df1-9ef9-55f4ae7f1dbd",
   "metadata": {},
   "outputs": [],
   "source": [
    "HR=data[(data.department==\"HR\") & (data.no_of_trainings==1)]\n",
    "HR_bef=Operations['new_prev'].sample(n=29)\n",
    "HR_aft=Operations['last_evaluation_score'].sample(n=29)"
   ]
  },
  {
   "cell_type": "code",
   "execution_count": 306,
   "id": "61e4ff01-a738-4dc2-990e-e3710b888c87",
   "metadata": {},
   "outputs": [],
   "source": [
    "thr,p_hr=stats.ttest_rel(HR_bef,HR_aft)"
   ]
  },
  {
   "cell_type": "code",
   "execution_count": 307,
   "id": "5b621b97-8404-482f-b9e6-1378f83dba93",
   "metadata": {},
   "outputs": [
    {
     "name": "stdout",
     "output_type": "stream",
     "text": [
      "tstatistic value is :  -3.788769516266795\n",
      "p_value  is :  0.01991002700240278\n"
     ]
    }
   ],
   "source": [
    "print(\"tstatistic value is : \",tstatistic)\n",
    "print(\"p_value  is : \",p_hr)"
   ]
  },
  {
   "cell_type": "code",
   "execution_count": 308,
   "id": "b6a2aa28-0807-4ae9-a03c-b5dd68c27528",
   "metadata": {},
   "outputs": [
    {
     "name": "stdout",
     "output_type": "stream",
     "text": [
      "We reject the null hypothesis (i.e) There is a significant difference between the evaluation scores before and after the training\n"
     ]
    }
   ],
   "source": [
    "if p_hr<0.05:\n",
    "    print(\"We reject the null hypothesis (i.e) There is a significant difference between the evaluation scores before and after the training\")\n",
    "else:\n",
    "    print(\"We fail to reject the null hypothesis (i.e) There is no significant difference between the evaluation scores before and after the training\")"
   ]
  },
  {
   "cell_type": "markdown",
   "id": "9a09466e-3178-4a6c-beb9-a2df42a1eefd",
   "metadata": {},
   "source": [
    "### Performing Paired sample t-test on Sales & Marketing department"
   ]
  },
  {
   "cell_type": "code",
   "execution_count": 309,
   "id": "c7998451-f53d-4e1a-9dbf-2102004e9268",
   "metadata": {},
   "outputs": [],
   "source": [
    "Sales=data[(data.department==\"Sales & Marketing\") & (data.no_of_trainings==1)]\n",
    "Sales_bef=Operations['new_prev'].sample(n=29)\n",
    "Sales_aft=Operations['last_evaluation_score'].sample(n=29)"
   ]
  },
  {
   "cell_type": "code",
   "execution_count": 310,
   "id": "9de55bd4-d8d0-4a34-b377-e4869df408ee",
   "metadata": {},
   "outputs": [],
   "source": [
    "tsal,p_sal=stats.ttest_rel(Sales_bef,Sales_aft)"
   ]
  },
  {
   "cell_type": "code",
   "execution_count": 311,
   "id": "0974a36a-9418-4b7a-8b1d-4d378372fc11",
   "metadata": {},
   "outputs": [
    {
     "name": "stdout",
     "output_type": "stream",
     "text": [
      "tstatistic value is :  -3.788769516266795\n",
      "p_value  is :  0.0008561344690187613\n"
     ]
    }
   ],
   "source": [
    "print(\"tstatistic value is : \",tstatistic)\n",
    "print(\"p_value  is : \",p_sal)"
   ]
  },
  {
   "cell_type": "code",
   "execution_count": 312,
   "id": "521966fd-32f1-4484-9873-fc13372a80c8",
   "metadata": {},
   "outputs": [
    {
     "name": "stdout",
     "output_type": "stream",
     "text": [
      "We reject the null hypothesis (i.e) There is a significant difference between the evaluation scores before and after the training\n"
     ]
    }
   ],
   "source": [
    "if p_sal<0.05:\n",
    "    print(\"We reject the null hypothesis (i.e) There is a significant difference between the evaluation scores before and after the training\")\n",
    "else:\n",
    "    print(\"We fail to reject the null hypothesis (i.e) There is no significant difference between the evaluation scores before and after the training\")"
   ]
  },
  {
   "cell_type": "markdown",
   "id": "ba0b2848-c2cd-416c-ae5d-7ca029d5ffae",
   "metadata": {},
   "source": [
    "### Performing Paired sample t-test on R & D Department "
   ]
  },
  {
   "cell_type": "code",
   "execution_count": 313,
   "id": "60302ad0-5fea-4e2d-9154-718bac08ee13",
   "metadata": {},
   "outputs": [],
   "source": [
    "Rd=data[(data.department==\"R&D\") & (data.no_of_trainings==1)]\n",
    "Rd_bef=Rd['new_prev'].sample(n=29)\n",
    "Rd_aft=Rd['last_evaluation_score'].sample(n=29)"
   ]
  },
  {
   "cell_type": "code",
   "execution_count": 314,
   "id": "2b518631-76ce-4fc6-b396-c641108b1c1d",
   "metadata": {},
   "outputs": [],
   "source": [
    "trd,p_rd=stats.ttest_rel(Rd_bef,Rd_aft)"
   ]
  },
  {
   "cell_type": "code",
   "execution_count": 315,
   "id": "73e628fe-fe75-4230-8c0a-b986efb04ab4",
   "metadata": {},
   "outputs": [
    {
     "name": "stdout",
     "output_type": "stream",
     "text": [
      "tstatistic value is :  -3.788769516266795\n",
      "p_value  is :  0.0015940367553174736\n"
     ]
    }
   ],
   "source": [
    "print(\"tstatistic value is : \",tstatistic)\n",
    "print(\"p_value  is : \",p_rd)"
   ]
  },
  {
   "cell_type": "code",
   "execution_count": 316,
   "id": "c0882dc5-ecbf-4605-932d-604b18d0d9da",
   "metadata": {},
   "outputs": [
    {
     "name": "stdout",
     "output_type": "stream",
     "text": [
      "We reject the null hypothesis (i.e) There is a significant difference between the evaluation scores before and after the training\n"
     ]
    }
   ],
   "source": [
    "if p_rd<0.05:\n",
    "    print(\"We reject the null hypothesis (i.e) There is a significant difference between the evaluation scores before and after the training\")\n",
    "else:\n",
    "    print(\"We fail to reject the null hypothesis (i.e) There is no significant difference between the evaluation scores before and after the training\")"
   ]
  },
  {
   "cell_type": "markdown",
   "id": "a5fa8043-07a3-41f0-a0e7-6de19a43dbfe",
   "metadata": {},
   "source": [
    "### Performing Paired sample t-test on Procurement Department "
   ]
  },
  {
   "cell_type": "code",
   "execution_count": 317,
   "id": "02ddf9d4-4e6c-47a5-bb0c-c4d02c437082",
   "metadata": {},
   "outputs": [],
   "source": [
    "Procurement=data[(data.department==\"Procurement\") & (data.no_of_trainings==1)]\n",
    "Procurement_bef=Procurement['new_prev'].sample(n=29)\n",
    "Procurement_aft=Procurement['last_evaluation_score'].sample(n=29)"
   ]
  },
  {
   "cell_type": "code",
   "execution_count": 318,
   "id": "43e51891-e69c-4501-8b3d-0f7dde6897c1",
   "metadata": {},
   "outputs": [],
   "source": [
    "tpro,p_pro=stats.ttest_rel(Procurement_bef,Procurement_aft)"
   ]
  },
  {
   "cell_type": "code",
   "execution_count": 319,
   "id": "c3b4962f-5424-4cc6-9578-a3e98b659c4a",
   "metadata": {},
   "outputs": [
    {
     "name": "stdout",
     "output_type": "stream",
     "text": [
      "tstatistic value is :  -3.788769516266795\n",
      "p_value  is :  0.0014461438737708298\n"
     ]
    }
   ],
   "source": [
    "print(\"tstatistic value is : \",tstatistic)\n",
    "print(\"p_value  is : \",p_pro)"
   ]
  },
  {
   "cell_type": "code",
   "execution_count": 320,
   "id": "e3e91cd9-8cf7-43ff-b439-f8fdfe77af77",
   "metadata": {},
   "outputs": [
    {
     "name": "stdout",
     "output_type": "stream",
     "text": [
      "We reject the null hypothesis (i.e)There is a significant difference between the evaluation scores before and after the training\n"
     ]
    }
   ],
   "source": [
    "if p_pro<0.05:\n",
    "    print(\"We reject the null hypothesis (i.e)There is a significant difference between the evaluation scores before and after the training\")\n",
    "else:\n",
    "    print(\"We fail to reject the null hypothesis (i.e) There is no significant difference between the evaluation scores before and after the training\")"
   ]
  },
  {
   "cell_type": "markdown",
   "id": "890a6197-f7a6-4c7d-a349-bdf5595ed1f5",
   "metadata": {},
   "source": [
    "### Performing Paired sample t-test on Technology Department "
   ]
  },
  {
   "cell_type": "code",
   "execution_count": 321,
   "id": "4e871b6d-fe84-4030-8685-8c11727ca1cf",
   "metadata": {},
   "outputs": [],
   "source": [
    "Technology=data[(data.department==\"Technology\") & (data.no_of_trainings==1)]\n",
    "Technology_bef=Technology['new_prev'].sample(n=29)\n",
    "Technology_aft=Technology['last_evaluation_score'].sample(n=29)"
   ]
  },
  {
   "cell_type": "code",
   "execution_count": 322,
   "id": "92b0207d-d129-401a-8eeb-2c0f6f3dd880",
   "metadata": {},
   "outputs": [],
   "source": [
    "ttec,p_tec=stats.ttest_rel(Technology_bef,Technology_aft)"
   ]
  },
  {
   "cell_type": "code",
   "execution_count": 323,
   "id": "ec2a5513-4a3e-4c39-9a69-765b7c9a7e07",
   "metadata": {},
   "outputs": [
    {
     "name": "stdout",
     "output_type": "stream",
     "text": [
      "tstatistic value is :  -3.788769516266795\n",
      "p_value  is :  0.0005013379543888507\n"
     ]
    }
   ],
   "source": [
    "print(\"tstatistic value is : \",tstatistic)\n",
    "print(\"p_value  is : \",p_tec)"
   ]
  },
  {
   "cell_type": "code",
   "execution_count": 324,
   "id": "7292a869-50a8-4073-8813-e62e6d47f93d",
   "metadata": {},
   "outputs": [
    {
     "name": "stdout",
     "output_type": "stream",
     "text": [
      "We reject the null hypothesis (i.e) There is a significant difference between the evaluation scores before and after the training\n"
     ]
    }
   ],
   "source": [
    "if p_tec<0.05:\n",
    "    print(\"We reject the null hypothesis (i.e) There is a significant difference between the evaluation scores before and after the training\")\n",
    "else:\n",
    "    print(\"We fail to reject the null hypothesis (i.e) There is no significant difference between the evaluation scores before and after the training\")"
   ]
  },
  {
   "cell_type": "code",
   "execution_count": 331,
   "id": "1b9f1ac1-b130-4a45-b2ed-ba987ab97a26",
   "metadata": {},
   "outputs": [],
   "source": [
    "results=pd.DataFrame({\"Department\":[\"Analytics\",\"Finance\",\"Legal\",\"Operations\",\"HR\",\"Sales & Marketing\",\"R&D\",\"Procurement\",\"Technology\"],\n",
    "                    \"tstatistic\":[tana,tfin,tleg,tope,thr,tsal,trd,tpro,ttec],\n",
    "                    \"p_values\":[p_ana,p_fin,p_leg,p_ope,p_hr,p_sal,p_rd,p_pro,p_tec],\n",
    "                    \"significance_level\":[0.05,0.05,0.05,0.05,0.05,0.05,0.05,0.05,0.05]})"
   ]
  },
  {
   "cell_type": "code",
   "execution_count": 332,
   "id": "74305bc3-3cf0-4a0d-82f2-54a66b53e3f0",
   "metadata": {},
   "outputs": [
    {
     "data": {
      "text/html": [
       "<div>\n",
       "<style scoped>\n",
       "    .dataframe tbody tr th:only-of-type {\n",
       "        vertical-align: middle;\n",
       "    }\n",
       "\n",
       "    .dataframe tbody tr th {\n",
       "        vertical-align: top;\n",
       "    }\n",
       "\n",
       "    .dataframe thead th {\n",
       "        text-align: right;\n",
       "    }\n",
       "</style>\n",
       "<table border=\"1\" class=\"dataframe\">\n",
       "  <thead>\n",
       "    <tr style=\"text-align: right;\">\n",
       "      <th></th>\n",
       "      <th>Department</th>\n",
       "      <th>tstatistic</th>\n",
       "      <th>p_values</th>\n",
       "      <th>significance_level</th>\n",
       "    </tr>\n",
       "  </thead>\n",
       "  <tbody>\n",
       "    <tr>\n",
       "      <th>0</th>\n",
       "      <td>Analytics</td>\n",
       "      <td>-1.866350</td>\n",
       "      <td>0.072499</td>\n",
       "      <td>0.05</td>\n",
       "    </tr>\n",
       "    <tr>\n",
       "      <th>1</th>\n",
       "      <td>Finance</td>\n",
       "      <td>-4.713894</td>\n",
       "      <td>0.000061</td>\n",
       "      <td>0.05</td>\n",
       "    </tr>\n",
       "    <tr>\n",
       "      <th>2</th>\n",
       "      <td>Legal</td>\n",
       "      <td>-4.648181</td>\n",
       "      <td>0.000073</td>\n",
       "      <td>0.05</td>\n",
       "    </tr>\n",
       "    <tr>\n",
       "      <th>3</th>\n",
       "      <td>Operations</td>\n",
       "      <td>-2.562763</td>\n",
       "      <td>0.016049</td>\n",
       "      <td>0.05</td>\n",
       "    </tr>\n",
       "    <tr>\n",
       "      <th>4</th>\n",
       "      <td>HR</td>\n",
       "      <td>-2.469115</td>\n",
       "      <td>0.019910</td>\n",
       "      <td>0.05</td>\n",
       "    </tr>\n",
       "    <tr>\n",
       "      <th>5</th>\n",
       "      <td>Sales &amp; Marketing</td>\n",
       "      <td>-3.732777</td>\n",
       "      <td>0.000856</td>\n",
       "      <td>0.05</td>\n",
       "    </tr>\n",
       "    <tr>\n",
       "      <th>6</th>\n",
       "      <td>R&amp;D</td>\n",
       "      <td>-3.495739</td>\n",
       "      <td>0.001594</td>\n",
       "      <td>0.05</td>\n",
       "    </tr>\n",
       "    <tr>\n",
       "      <th>7</th>\n",
       "      <td>Procurement</td>\n",
       "      <td>-3.533138</td>\n",
       "      <td>0.001446</td>\n",
       "      <td>0.05</td>\n",
       "    </tr>\n",
       "    <tr>\n",
       "      <th>8</th>\n",
       "      <td>Technology</td>\n",
       "      <td>-3.934058</td>\n",
       "      <td>0.000501</td>\n",
       "      <td>0.05</td>\n",
       "    </tr>\n",
       "  </tbody>\n",
       "</table>\n",
       "</div>"
      ],
      "text/plain": [
       "          Department  tstatistic  p_values  significance_level\n",
       "0          Analytics   -1.866350  0.072499                0.05\n",
       "1            Finance   -4.713894  0.000061                0.05\n",
       "2              Legal   -4.648181  0.000073                0.05\n",
       "3         Operations   -2.562763  0.016049                0.05\n",
       "4                 HR   -2.469115  0.019910                0.05\n",
       "5  Sales & Marketing   -3.732777  0.000856                0.05\n",
       "6                R&D   -3.495739  0.001594                0.05\n",
       "7        Procurement   -3.533138  0.001446                0.05\n",
       "8         Technology   -3.934058  0.000501                0.05"
      ]
     },
     "execution_count": 332,
     "metadata": {},
     "output_type": "execute_result"
    }
   ],
   "source": [
    "results"
   ]
  },
  {
   "cell_type": "code",
   "execution_count": 333,
   "id": "082bce2b-b314-4b48-bad8-776626b46681",
   "metadata": {},
   "outputs": [
    {
     "data": {
      "text/html": [
       "<div>\n",
       "<style scoped>\n",
       "    .dataframe tbody tr th:only-of-type {\n",
       "        vertical-align: middle;\n",
       "    }\n",
       "\n",
       "    .dataframe tbody tr th {\n",
       "        vertical-align: top;\n",
       "    }\n",
       "\n",
       "    .dataframe thead th {\n",
       "        text-align: right;\n",
       "    }\n",
       "</style>\n",
       "<table border=\"1\" class=\"dataframe\">\n",
       "  <thead>\n",
       "    <tr style=\"text-align: right;\">\n",
       "      <th></th>\n",
       "      <th>Department</th>\n",
       "      <th>tstatistic</th>\n",
       "      <th>p_values</th>\n",
       "      <th>significance_level</th>\n",
       "    </tr>\n",
       "  </thead>\n",
       "  <tbody>\n",
       "    <tr>\n",
       "      <th>2</th>\n",
       "      <td>Legal</td>\n",
       "      <td>-4.648181</td>\n",
       "      <td>0.000073</td>\n",
       "      <td>0.05</td>\n",
       "    </tr>\n",
       "    <tr>\n",
       "      <th>3</th>\n",
       "      <td>Operations</td>\n",
       "      <td>-2.562763</td>\n",
       "      <td>0.016049</td>\n",
       "      <td>0.05</td>\n",
       "    </tr>\n",
       "    <tr>\n",
       "      <th>4</th>\n",
       "      <td>HR</td>\n",
       "      <td>-2.469115</td>\n",
       "      <td>0.019910</td>\n",
       "      <td>0.05</td>\n",
       "    </tr>\n",
       "    <tr>\n",
       "      <th>5</th>\n",
       "      <td>Sales &amp; Marketing</td>\n",
       "      <td>-3.732777</td>\n",
       "      <td>0.000856</td>\n",
       "      <td>0.05</td>\n",
       "    </tr>\n",
       "    <tr>\n",
       "      <th>6</th>\n",
       "      <td>R&amp;D</td>\n",
       "      <td>-3.495739</td>\n",
       "      <td>0.001594</td>\n",
       "      <td>0.05</td>\n",
       "    </tr>\n",
       "    <tr>\n",
       "      <th>7</th>\n",
       "      <td>Procurement</td>\n",
       "      <td>-3.533138</td>\n",
       "      <td>0.001446</td>\n",
       "      <td>0.05</td>\n",
       "    </tr>\n",
       "    <tr>\n",
       "      <th>8</th>\n",
       "      <td>Technology</td>\n",
       "      <td>-3.934058</td>\n",
       "      <td>0.000501</td>\n",
       "      <td>0.05</td>\n",
       "    </tr>\n",
       "  </tbody>\n",
       "</table>\n",
       "</div>"
      ],
      "text/plain": [
       "          Department  tstatistic  p_values  significance_level\n",
       "2              Legal   -4.648181  0.000073                0.05\n",
       "3         Operations   -2.562763  0.016049                0.05\n",
       "4                 HR   -2.469115  0.019910                0.05\n",
       "5  Sales & Marketing   -3.732777  0.000856                0.05\n",
       "6                R&D   -3.495739  0.001594                0.05\n",
       "7        Procurement   -3.533138  0.001446                0.05\n",
       "8         Technology   -3.934058  0.000501                0.05"
      ]
     },
     "execution_count": 333,
     "metadata": {},
     "output_type": "execute_result"
    }
   ],
   "source": [
    "results.tail(7)"
   ]
  },
  {
   "cell_type": "code",
   "execution_count": 346,
   "id": "66d1b73e-028b-4541-8c4b-b1c54d2150e2",
   "metadata": {},
   "outputs": [
    {
     "data": {
      "image/png": "[encoded data removed]",
      "text/plain": [
       "<Figure size 1000x600 with 1 Axes>"
      ]
     },
     "metadata": {},
     "output_type": "display_data"
    }
   ],
   "source": [
    "# Create a point plot of p-values by department\n",
    "plt.figure(figsize=(10, 6))\n",
    "plt.plot(results[\"Department\"],results[\"p_values\"],color='blue',marker='o')\n",
    "plt.title(\"P-Values by Department\")\n",
    "plt.xlabel(\"Department\")\n",
    "plt.ylabel(\"P-Value\")\n",
    "plt.xticks(rotation=45)\n",
    "plt.show()\n"
   ]
  },
  {
   "cell_type": "code",
   "execution_count": null,
   "id": "4b977c7a-20af-48f6-98b3-618dd555c5ed",
   "metadata": {},
   "outputs": [],
   "source": []
  }
 ],
 "metadata": {
  "kernelspec": {
   "display_name": "Python 3 (ipykernel)",
   "language": "python",
   "name": "python3"
  },
  "language_info": {
   "codemirror_mode": {
    "name": "ipython",
    "version": 3
   },
   "file_extension": ".py",
   "mimetype": "text/x-python",
   "name": "python",
   "nbconvert_exporter": "python",
   "pygments_lexer": "ipython3",
   "version": "3.12.2"
  },
  "widgets": {
   "application/vnd.jupyter.widget-state+json": {
    "state": {},
    "version_major": 2,
    "version_minor": 0
   }
  }
 },
 "nbformat": 4,
 "nbformat_minor": 5
}
